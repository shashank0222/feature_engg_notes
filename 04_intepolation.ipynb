{
 "cells": [
  {
   "cell_type": "markdown",
   "id": "769d1c09-986a-4f1f-b5f4-8fd16a9056d2",
   "metadata": {},
   "source": [
    "#  Data Interpolation"
   ]
  },
  {
   "cell_type": "code",
   "execution_count": null,
   "id": "a708025b-046c-4b34-a552-128cefca1c5a",
   "metadata": {},
   "outputs": [],
   "source": []
  },
  {
   "cell_type": "markdown",
   "id": "140c4cdc-6cae-41e9-8d63-a5f488c9313a",
   "metadata": {},
   "source": [
    "Data is the process of estimating unknown values within a dataset based on the known values. \n",
    "In python , there are various libraries available that can be used for data interpolation , \n",
    "such as Numpy , Scipy , and Pandas. Here is an example of how to perform data interpolation using the numpy library:\n",
    "\n",
    "1. Linear interpolation\n",
    "\n",
    "2. Cubic interpolation using Scipy\n",
    "\n",
    "3. Polynomial Interpolation"
   ]
  },
  {
   "cell_type": "code",
   "execution_count": null,
   "id": "c9da2847-4337-4cdb-b325-7ffea2da31cf",
   "metadata": {},
   "outputs": [],
   "source": []
  },
  {
   "cell_type": "markdown",
   "id": "56d328ce-0a78-449c-9ad2-fcea16284c89",
   "metadata": {},
   "source": [
    "# 1. Linear Interpolation"
   ]
  },
  {
   "cell_type": "code",
   "execution_count": 1,
   "id": "d226e5ce-1dea-41c8-b1e6-d097bb3bfce4",
   "metadata": {},
   "outputs": [],
   "source": [
    "import numpy as np\n",
    "import matplotlib.pyplot as plt"
   ]
  },
  {
   "cell_type": "code",
   "execution_count": null,
   "id": "29a2d1c6-8bb0-44d8-8de9-a8669e42b062",
   "metadata": {},
   "outputs": [],
   "source": [
    "x = np.array([1,2,3,4,5])\n",
    "y = np.array([2,4,6,8,10])"
   ]
  },
  {
   "cell_type": "code",
   "execution_count": null,
   "id": "d94214d5-189a-4332-9ee1-90b96e24f2e9",
   "metadata": {},
   "outputs": [],
   "source": [
    "plt.scatter(x,y)"
   ]
  },
  {
   "cell_type": "code",
   "execution_count": null,
   "id": "83a9d40c-9e53-4529-9d3a-506ef5309240",
   "metadata": {},
   "outputs": [],
   "source": []
  },
  {
   "cell_type": "code",
   "execution_count": null,
   "id": "29ae973a-0474-4408-a48d-a49179696332",
   "metadata": {},
   "outputs": [],
   "source": [
    "x_new = np.linspace(1,5,20)\n",
    "\n",
    "y_new = np.interp(x_new,x,y)"
   ]
  },
  {
   "cell_type": "code",
   "execution_count": null,
   "id": "0c77482a-244c-4acf-a95f-8fbc42b8635b",
   "metadata": {},
   "outputs": [],
   "source": [
    "plt.scatter(x_new , y_new)"
   ]
  },
  {
   "cell_type": "code",
   "execution_count": null,
   "id": "a5adb4ef-f945-4416-a361-b177172f13bf",
   "metadata": {},
   "outputs": [],
   "source": []
  },
  {
   "cell_type": "markdown",
   "id": "7f77d632-2b8b-49ae-a463-8114c08481c7",
   "metadata": {},
   "source": [
    "# Cubic Interpolation"
   ]
  },
  {
   "cell_type": "code",
   "execution_count": 28,
   "id": "5173bfc4-4e44-4c88-8b94-f324ec3680fe",
   "metadata": {},
   "outputs": [],
   "source": [
    "x = np.array([1,2,3,4,5])\n",
    "\n",
    "y = np.array([1,8,27,64,125])\n",
    "z = np.array([1,4,9,16,25])"
   ]
  },
  {
   "cell_type": "code",
   "execution_count": 29,
   "id": "2a16139e-548b-45ee-a6ef-d1dcaeaac82a",
   "metadata": {},
   "outputs": [
    {
     "data": {
      "text/plain": [
       "<matplotlib.collections.PathCollection at 0x7f2f01471780>"
      ]
     },
     "execution_count": 29,
     "metadata": {},
     "output_type": "execute_result"
    },
    {
     "data": {
      "image/png": "[encoded data removed]",
      "text/plain": [
       "<Figure size 640x480 with 1 Axes>"
      ]
     },
     "metadata": {},
     "output_type": "display_data"
    }
   ],
   "source": [
    "plt.scatter(x,y)"
   ]
  },
  {
   "cell_type": "code",
   "execution_count": 24,
   "id": "7082e6ba-5415-489e-814b-142257f1b00c",
   "metadata": {},
   "outputs": [],
   "source": [
    "from scipy.interpolate import interp2d"
   ]
  },
  {
   "cell_type": "code",
   "execution_count": 27,
   "id": "c9c4b6fa-9c08-4311-bcb4-fe8f1935d6a8",
   "metadata": {},
   "outputs": [
    {
     "ename": "TypeError",
     "evalue": "interp2d.__init__() missing 1 required positional argument: 'z'",
     "output_type": "error",
     "traceback": [
      "\u001b[0;31m---------------------------------------------------------------------------\u001b[0m",
      "\u001b[0;31mTypeError\u001b[0m                                 Traceback (most recent call last)",
      "Cell \u001b[0;32mIn[27], line 1\u001b[0m\n\u001b[0;32m----> 1\u001b[0m f \u001b[38;5;241m=\u001b[39m \u001b[43minterp2d\u001b[49m\u001b[43m(\u001b[49m\u001b[43mx\u001b[49m\u001b[43m,\u001b[49m\u001b[43my\u001b[49m\u001b[43m,\u001b[49m\u001b[43mkind\u001b[49m\u001b[43m \u001b[49m\u001b[38;5;241;43m=\u001b[39;49m\u001b[43m \u001b[49m\u001b[38;5;124;43m\"\u001b[39;49m\u001b[38;5;124;43mcubic\u001b[39;49m\u001b[38;5;124;43m\"\u001b[39;49m\u001b[43m)\u001b[49m\n",
      "\u001b[0;31mTypeError\u001b[0m: interp2d.__init__() missing 1 required positional argument: 'z'"
     ]
    }
   ],
   "source": [
    "f = interp2d(x,y,kind = \"cubic\")\n"
   ]
  },
  {
   "cell_type": "code",
   "execution_count": 26,
   "id": "b77f562d-474b-4274-9111-12011ec6249f",
   "metadata": {},
   "outputs": [
    {
     "ename": "NameError",
     "evalue": "name 'f' is not defined",
     "output_type": "error",
     "traceback": [
      "\u001b[0;31m---------------------------------------------------------------------------\u001b[0m",
      "\u001b[0;31mNameError\u001b[0m                                 Traceback (most recent call last)",
      "Cell \u001b[0;32mIn[26], line 2\u001b[0m\n\u001b[1;32m      1\u001b[0m x_new \u001b[38;5;241m=\u001b[39m np\u001b[38;5;241m.\u001b[39mlinspace(\u001b[38;5;241m1\u001b[39m,\u001b[38;5;241m5\u001b[39m,\u001b[38;5;241m20\u001b[39m)\n\u001b[0;32m----> 2\u001b[0m y_interp \u001b[38;5;241m=\u001b[39m \u001b[43mf\u001b[49m(x_new)\n",
      "\u001b[0;31mNameError\u001b[0m: name 'f' is not defined"
     ]
    }
   ],
   "source": [
    "x_new = np.linspace(1,5,20)\n",
    "y_interp = f(x_new)"
   ]
  },
  {
   "cell_type": "code",
   "execution_count": null,
   "id": "5cb21109-e45f-4d34-83aa-241d4f31ad38",
   "metadata": {},
   "outputs": [],
   "source": [
    "plt.scatter(x_new , y_interp)"
   ]
  },
  {
   "cell_type": "code",
   "execution_count": null,
   "id": "37ace721-4a5a-4d76-a0c0-3075f2508e01",
   "metadata": {},
   "outputs": [],
   "source": []
  },
  {
   "cell_type": "markdown",
   "id": "2085f3c3-df8c-4965-8384-5a38f552ac7b",
   "metadata": {},
   "source": [
    "# Polynomial Interpolation"
   ]
  },
  {
   "cell_type": "code",
   "execution_count": 2,
   "id": "556b05b4-0819-4197-b58f-44757ffcbc27",
   "metadata": {},
   "outputs": [],
   "source": [
    "x = np.array([1,2,3,4,5])\n",
    "y = np.array([1,4,9,16,25])"
   ]
  },
  {
   "cell_type": "code",
   "execution_count": 3,
   "id": "869efc9e-fa14-4d3e-a1f4-546930910d87",
   "metadata": {},
   "outputs": [
    {
     "data": {
      "text/plain": [
       "<matplotlib.collections.PathCollection at 0x7f2f0bd5e0e0>"
      ]
     },
     "execution_count": 3,
     "metadata": {},
     "output_type": "execute_result"
    },
    {
     "data": {
      "image/png": "[encoded data removed]",
      "text/plain": [
       "<Figure size 640x480 with 1 Axes>"
      ]
     },
     "metadata": {},
     "output_type": "display_data"
    }
   ],
   "source": [
    "plt.scatter(x,y)"
   ]
  },
  {
   "cell_type": "code",
   "execution_count": null,
   "id": "349ac81c-ea73-4e5d-af8c-b0d1718fe775",
   "metadata": {},
   "outputs": [],
   "source": []
  },
  {
   "cell_type": "code",
   "execution_count": 22,
   "id": "c80d1139-e96e-4596-8dde-84bd16d27e6a",
   "metadata": {},
   "outputs": [],
   "source": [
    "p =  np.polyfit(x,y,deg=2)"
   ]
  },
  {
   "cell_type": "code",
   "execution_count": 23,
   "id": "23eddceb-3738-41c2-9548-3a972efff710",
   "metadata": {},
   "outputs": [],
   "source": [
    "x_new = np.linspace(1,5,20)\n",
    "\n",
    "y_interp = np.polyval(p,x_new)"
   ]
  },
  {
   "cell_type": "code",
   "execution_count": 20,
   "id": "41dbf425-52ee-4bc3-bca7-798832c420c1",
   "metadata": {},
   "outputs": [
    {
     "data": {
      "text/plain": [
       "<matplotlib.collections.PathCollection at 0x7f2f03821000>"
      ]
     },
     "execution_count": 20,
     "metadata": {},
     "output_type": "execute_result"
    },
    {
     "data": {
      "image/png": "[encoded data removed]",
      "text/plain": [
       "<Figure size 640x480 with 1 Axes>"
      ]
     },
     "metadata": {},
     "output_type": "display_data"
    }
   ],
   "source": [
    "plt.scatter(x_new,y_interp)"
   ]
  },
  {
   "cell_type": "code",
   "execution_count": null,
   "id": "246d012c-af09-464f-81c9-7b21628c4846",
   "metadata": {},
   "outputs": [],
   "source": []
  },
  {
   "cell_type": "code",
   "execution_count": null,
   "id": "7df4ad31-ed60-44af-aa61-88e2167a2b56",
   "metadata": {},
   "outputs": [],
   "source": []
  },
  {
   "cell_type": "code",
   "execution_count": null,
   "id": "74421d73-1c0b-446a-ae18-f481fcd6a2be",
   "metadata": {},
   "outputs": [],
   "source": []
  },
  {
   "cell_type": "code",
   "execution_count": null,
   "id": "27138af1-5e6f-4df3-b23e-edad7cbcd41b",
   "metadata": {},
   "outputs": [],
   "source": []
  },
  {
   "cell_type": "code",
   "execution_count": null,
   "id": "633a470a-fad7-4bd7-8b81-14d5fc5f2aa0",
   "metadata": {},
   "outputs": [],
   "source": []
  },
  {
   "cell_type": "code",
   "execution_count": null,
   "id": "5334669d-7b5c-489c-baaa-b52cd3f0f16d",
   "metadata": {},
   "outputs": [],
   "source": []
  }
 ],
 "metadata": {
  "kernelspec": {
   "display_name": "Python 3 (ipykernel)",
   "language": "python",
   "name": "python3"
  },
  "language_info": {
   "codemirror_mode": {
    "name": "ipython",
    "version": 3
   },
   "file_extension": ".py",
   "mimetype": "text/x-python",
   "name": "python",
   "nbconvert_exporter": "python",
   "pygments_lexer": "ipython3",
   "version": "3.10.8"
  }
 },
 "nbformat": 4,
 "nbformat_minor": 5
}
